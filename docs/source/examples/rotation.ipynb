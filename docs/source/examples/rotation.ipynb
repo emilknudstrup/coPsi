{
 "cells": [
  {
   "cell_type": "markdown",
   "metadata": {},
   "source": [
    "# Rotation peaks"
   ]
  },
  {
   "cell_type": "markdown",
   "metadata": {},
   "source": [
    "## Rotation period from fit to peaks in ACF\n",
    "Let's try to estimate the stellar rotation period from a TESS [(Ricker et al. 2014)](https://ui.adsabs.harvard.edu/abs/2014SPIE.9143E..20R/abstract) light curve of TOI-4641 ([Bieryla et al. 2024, the transits from the planet have been removed](https://ui.adsabs.harvard.edu/abs/2024MNRAS.52710955B/abstract)). "
   ]
  },
  {
   "cell_type": "markdown",
   "metadata": {},
   "source": [
    "As before we'll read in the data and fill gaps (TESS downlinks). Here we'll also find the largest continuous chunk of data and use that as the maximum rotation period we'll search for."
   ]
  },
  {
   "cell_type": "code",
   "execution_count": null,
   "metadata": {},
   "outputs": [],
   "source": [
    "import coPsi\n",
    "## Instantiate Data\n",
    "dat = coPsi.Data()\n",
    "## Read in data file\n",
    "dat.readData('lc_toi4641.txt')\n",
    "## Plot the data and return the axis\n",
    "ax = dat.plotData(return_ax=1)\n",
    "\n",
    "## Let's find the largest continuous chunk of data\n",
    "## by default, this will be the maximum rotation period we'll search for\n",
    "dat.maxTime()\n",
    "## But let's just be a bit conservative and set it to 23 days\n",
    "dat.maxT = 23\n",
    "\n",
    "## Fill the gaps (here for TESS downlink)\n",
    "dat.fillGaps()\n",
    "dat.plotData(ax=ax)"
   ]
  },
  {
   "cell_type": "markdown",
   "metadata": {},
   "source": [
    "Now that we have a decent looking light curve, we'll try to estimate the stellar rotation period following the approach in [McQuillan et al. (2013)](https://ui.adsabs.harvard.edu/abs/2013MNRAS.432.1203M/abstract)."
   ]
  },
  {
   "cell_type": "code",
   "execution_count": null,
   "metadata": {},
   "outputs": [],
   "source": [
    "\n",
    "## Instantiate Rotator object, here it inherits from the Data attributes\n",
    "rot = coPsi.Rotator(x=dat.x,y=dat.y)\n",
    "## Calculate autocorrelation\n",
    "rot.ACF()\n",
    "## Smooth autocorrelation\n",
    "rot.smoothACF(window=51)\n",
    "## Grab peaks and estimate rotation period\n",
    "rot.fromPeaks(prominence=(0.01),xmin=-0.25,xmax=dat.maxT,ymax=0.7)"
   ]
  },
  {
   "cell_type": "markdown",
   "metadata": {},
   "source": [
    "This doesn't look too convincing. We seem to pick up on the \"double-dip\" features stemming from having more than one active region [(McQuillan et al. 2013)](https://ui.adsabs.harvard.edu/abs/2013MNRAS.432.1203M/abstract). This obviously results in us measuring a lower period than the actual stellar rotation period (~1.04 days, [Bieryla et al. 2024](https://ui.adsabs.harvard.edu/abs/2024MNRAS.52710955B/abstract)).\n",
    "Adjusting the prominence can sometimes help (see [scipy.signal.find_peaks](https://docs.scipy.org/doc/scipy/reference/generated/scipy.signal.find_peaks.html)). "
   ]
  },
  {
   "cell_type": "code",
   "execution_count": null,
   "metadata": {},
   "outputs": [],
   "source": [
    "## Adjust prominence and maxpeaks to find the best rotation period\n",
    "rot.fromPeaks(prominence=(0.1),maxpeaks=40,xmin=-0.25,xmax=dat.maxT,ymax=0.7)"
   ]
  },
  {
   "cell_type": "markdown",
   "metadata": {},
   "source": [
    "That looks better! But we still seem to hit an early \"double-dip\", so maybe we should just pick the peaks ourselves.\n",
    "We can do that manually by using `rot.pickPeaks`. \n",
    "However, we do need to have an interactive plot for that obviously."
   ]
  },
  {
   "cell_type": "code",
   "execution_count": null,
   "metadata": {},
   "outputs": [],
   "source": [
    "%matplotlib qt\n",
    "## Grab peaks manually and estimate rotation period\n",
    "## Peaks are selected by clicking on the plot Mouse1 (event 1) to select, \n",
    "## Mouse3 (event 3) to deselect the latest peak, or Mouse2 (event 2) to remove all peaks\n",
    "rot.pickPeaks(xmin=-0.25,xmax=dat.maxT,ymax=0.7)"
   ]
  },
  {
   "cell_type": "markdown",
   "metadata": {},
   "source": [
    "The animation below shows the procedure:\n",
    "Use mouse1 (event 1) to select, mouse3 (event 3) to deselect the latest peak, or mouse2 (event 2) to remove all peaks"
   ]
  },
  {
   "cell_type": "markdown",
   "metadata": {},
   "source": [
    "![SegmentLocal](peakSelect.gif \"segment\")\n"
   ]
  },
  {
   "cell_type": "markdown",
   "metadata": {},
   "source": [
    "Then after selecting those peaks we can once again plot and fit the 1st order polynomium."
   ]
  },
  {
   "cell_type": "code",
   "execution_count": null,
   "metadata": {},
   "outputs": [],
   "source": [
    "%matplotlib inline\n",
    "if len(rot.peaks) > 1:\n",
    "\trot.fromPeaks(rot.peaks,plot=True,poly=True,xmin=-0.25,xmax=dat.maxT,ymax=0.7)"
   ]
  },
  {
   "cell_type": "markdown",
   "metadata": {},
   "source": [
    "This should give:"
   ]
  },
  {
   "cell_type": "code",
   "execution_count": null,
   "metadata": {},
   "outputs": [],
   "source": [
    "# Peaks given at:  [ 1.01254611  2.02925907  3.04180518  4.05712919  5.07523111  6.09333302\n",
    "# \t7.11421284  8.13231476  9.15180562 10.16851859 11.1866205  12.20194452\n",
    "#\t13.21587957 14.23537044 15.25208341 16.26324056 17.28412038 18.30777811\n",
    "#\t19.32449107 20.34814879 21.36902861]\n",
    "# From linear fit and covariance:\n",
    "# Prot = 1.0176+/-0.0001 d"
   ]
  }
 ],
 "metadata": {
  "kernelspec": {
   "display_name": "main",
   "language": "python",
   "name": "python3"
  },
  "language_info": {
   "codemirror_mode": {
    "name": "ipython",
    "version": 3
   },
   "file_extension": ".py",
   "mimetype": "text/x-python",
   "name": "python",
   "nbconvert_exporter": "python",
   "pygments_lexer": "ipython3",
   "version": "3.9.17"
  }
 },
 "nbformat": 4,
 "nbformat_minor": 4
}
